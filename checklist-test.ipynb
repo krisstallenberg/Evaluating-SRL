{
 "cells": [
  {
   "cell_type": "markdown",
   "id": "68b8c59a-d852-4038-93cb-96bded0c4145",
   "metadata": {},
   "source": [
    "# CheckList test of two SRL sytems\n",
    "\n",
    "In this notebook, we'll apply CheckList tests to two Semantic Role Labeling (SRL) models:\n",
    "1. A logistic regression model, trained on three features.\n",
    "2. A DistillBERT model, fine-tuned on a CoNLL SRL dataset."
   ]
  },
  {
   "cell_type": "markdown",
   "id": "3c31a982-f2a9-46f2-bbcc-ce8d6fa2d307",
   "metadata": {},
   "source": [
    "## Importing dependencies"
   ]
  },
  {
   "cell_type": "code",
   "execution_count": 1,
   "id": "d49bdec4-6ba5-4e4e-89d1-5b874adbe5cd",
   "metadata": {},
   "outputs": [],
   "source": [
    "# For the BERT model\n",
    "\n",
    "import time\n",
    "import pandas as pd\n",
    "import transformers\n",
    "import numpy as np\n",
    "import torch\n",
    "from sklearn.metrics import classification_report, confusion_matrix, precision_recall_fscore_support, ConfusionMatrixDisplay\n",
    "import matplotlib.pyplot as plt\n",
    "from transformers import AutoTokenizer, AutoModelForTokenClassification, TrainingArguments, Trainer, DataCollatorForTokenClassification\n",
    "from datasets import Dataset\n",
    "from utils import read_data_as_sentence,map_labels_in_dataframe,tokenize_and_align_labels,get_label_mapping,get_labels_from_map,load_srl_model,load_dataset,compute_metrics,write_predictions_to_csv,compute_evaluation_metrics_from_csv, print_sentences\n",
    "from bert_srl import main, define_args\n",
    "\n",
    "# For the logistic regression model\n",
    "import json\n",
    "import sys\n",
    "import pickle\n",
    "from datetime import datetime\n",
    "from sklearn.linear_model import LogisticRegression\n",
    "from sklearn.feature_extraction import DictVectorizer\n",
    "from sklearn.metrics import classification_report, confusion_matrix, ConfusionMatrixDisplay\n",
    "\n",
    "sys.path.append('feature_extraction')\n",
    "from extract_position_rel2pred import extract_word_position_and_voice\n",
    "from extract_dependency_path import extract_dependency_paths\n",
    "from extract_predicate import extract_predicate_lemma"
   ]
  },
  {
   "cell_type": "markdown",
   "id": "572d2bf4-cc61-4345-ad7a-3f132c2e682a",
   "metadata": {},
   "source": [
    "## 1. Declare standalone functions\n",
    "\n",
    "### 1.1 Logistic regression"
   ]
  },
  {
   "cell_type": "code",
   "execution_count": 2,
   "id": "91530edd-4d7f-4c04-b0f6-a1bd1185b73c",
   "metadata": {},
   "outputs": [
    {
     "name": "stderr",
     "output_type": "stream",
     "text": [
      "/Users/krisstallenberg/anaconda3/envs/adv-nlp-final-exam/lib/python3.12/site-packages/sklearn/base.py:380: InconsistentVersionWarning: Trying to unpickle estimator DictVectorizer from version 1.6.0 when using version 1.6.1. This might lead to breaking code or invalid results. Use at your own risk. For more info please refer to:\n",
      "https://scikit-learn.org/stable/model_persistence.html#security-maintainability-limitations\n",
      "  warnings.warn(\n",
      "/Users/krisstallenberg/anaconda3/envs/adv-nlp-final-exam/lib/python3.12/site-packages/sklearn/base.py:380: InconsistentVersionWarning: Trying to unpickle estimator LogisticRegression from version 1.6.0 when using version 1.6.1. This might lead to breaking code or invalid results. Use at your own risk. For more info please refer to:\n",
      "https://scikit-learn.org/stable/model_persistence.html#security-maintainability-limitations\n",
      "  warnings.warn(\n"
     ]
    }
   ],
   "source": [
    "def extract_features(data):\n",
    "\t\"\"\"\n",
    "\tExtract features from the data.\n",
    "\n",
    "\tReturns a list of samples.\n",
    "\t\"\"\"\n",
    "\n",
    "\tsamples = []\n",
    "\n",
    "\tfor sentence in data:\n",
    "\n",
    "\t\t# Extract features\n",
    "\t\tpositions_rel2pred, verb_voice = extract_word_position_and_voice(sentence)\n",
    "\t\td_paths = extract_dependency_paths(sentence)\n",
    "\t\tpredicate_lemma = extract_predicate_lemma(sentence)\n",
    "  \n",
    "\t\t# Create a sample for each token in the sentence.\n",
    "\t\tfor i, token in enumerate(sentence):\n",
    "\t\t\t# Skip predicate tokens.\t\n",
    "\t\t\tif token['predicate'] == '_':\n",
    "\t\t\t\tsample = {\n",
    "\t\t\t\t\t'token': token['form'],\n",
    "\t\t\t\t\t'position_rel2pred': positions_rel2pred[i] + verb_voice,\n",
    "\t\t\t\t\t'dep_path+lemma': d_paths[i] + predicate_lemma\n",
    "\t\t\t\t}\n",
    "\t\t\t\tsamples.append(sample)\n",
    "\n",
    "\treturn samples\n",
    "\n",
    "def format_sentence(sentence, predicate_location, argument_labels, predicate_form):\n",
    "    \"\"\"\n",
    "    Formats a sentence into a list of dictionaries, to match the input format of the feature extraction functions.\n",
    "    \n",
    "    Args:\n",
    "        sentence (list): A list of words.\n",
    "        predicate_location (list): A one-hot vector, indicating the location of the predicate.\n",
    "        argument_labels (list): A list of argument labels.\n",
    "        predicate_form (str): The sense label of the predicate.\n",
    "    \"\"\"\n",
    "    output = []\n",
    "    \n",
    "    for i, word in enumerate(sentence):\n",
    "        word_dict = {\n",
    "            \"form\": word,\n",
    "            \"predicate\": predicate_form if predicate_location[i] == 1 else \"_\",\n",
    "            \"argument\": argument_labels[i]\n",
    "        }\n",
    "        output.append(word_dict)\n",
    "    \n",
    "    return output\n",
    "\n",
    "def classify_sentence_logreg(sentence, predicate_location, argument_labels, predicate_sense, model, vectorizer):\n",
    "    \"\"\"\n",
    "    The standalone function that takes a sentence and predicts the argument labels, using logistic regression\n",
    "    \n",
    "    Args:\n",
    "        sentence (list): A list of words.\n",
    "        predicate_location (list): A one-hot vector, indicating the location of the predicate.\n",
    "        argument_labels (list): A list of argument labels.\n",
    "        predicate_sense (str): The sense label of the predicate.\n",
    "    \"\"\"\n",
    "    formatted_output = format_sentence(sentence, predicate_location, argument_labels, predicate_sense)\n",
    "    sample = extract_features([formatted_output])\n",
    "    feature_vectors = vectorizer.transform(sample)\n",
    "    predictions = model.predict(feature_vectors)\n",
    "    predictions = np.insert(predictions, predicate_location.index(1), '_')\n",
    "    return predictions\n",
    "\n",
    "sentence = [\"The\", \"dog\", \"ran\", \"and\", \"the\", \"man\", \"fell\", \".\"]\n",
    "\n",
    "predicate_location = [0, 0, 1, 0, 0, 0, 0, 0] \n",
    "argument_labels = ['_', 'ARG0', '_', '_', '_', '_', '_', '_']\n",
    "predicate_sense = \"run.01\"\n",
    "\n",
    "with open(\"learned-models/vectorizer.pkl\", \"rb\") as f:\n",
    "    vectorizer = pickle.load(f)\n",
    "\n",
    "with open(\"learned-models/model.pkl\", \"rb\") as f:\n",
    "    model = pickle.load(f)"
   ]
  },
  {
   "cell_type": "markdown",
   "id": "90d9e7df-153b-470b-a9b4-8b2fe196e164",
   "metadata": {},
   "source": [
    "### 1.2 DistillBERT "
   ]
  },
  {
   "cell_type": "code",
   "execution_count": 3,
   "id": "631a1481-8035-4b4d-ab09-3a745ca1b718",
   "metadata": {},
   "outputs": [
    {
     "name": "stderr",
     "output_type": "stream",
     "text": [
      "/var/folders/d9/p0hwqj9x1sx30sdq622dyn1r0000gn/T/ipykernel_1437/3635224896.py:99: FutureWarning: `tokenizer` is deprecated and will be removed in version 5.0.0 for `Trainer.__init__`. Use `processing_class` instead.\n",
      "  trainer = Trainer(\n"
     ]
    }
   ],
   "source": [
    "def create_input_sequence(sentence, predicate_position, argument_labels):\n",
    "    \"\"\"\n",
    "    Creates a DataFrame with columns 'input_form' and 'argument' for a single sentence.\n",
    "\n",
    "    Parameters:\n",
    "    - sentence (list of str): The words in the sentence.\n",
    "    - predicate_position (list of int): One-hot encoding indicating the predicate position.\n",
    "    - argument_labels (list of str): The argument labels for each token in the sentence.\n",
    "\n",
    "    Returns:\n",
    "    - DataFrame with two columns: 'input_form' and 'argument'.\n",
    "    \"\"\"\n",
    "    # Ensure input lengths match\n",
    "    assert len(sentence) == len(predicate_position) == len(argument_labels), \"Input lists must have the same length.\"\n",
    "    \n",
    "    # Determine the predicate form based on the one-hot encoding\n",
    "    predicate_index = predicate_position.index(1)\n",
    "    predicate_form = sentence[predicate_index]\n",
    "    \n",
    "    # Append special tokens to input_form and argument lists\n",
    "    input_form = sentence + ['[SEP]', predicate_form]\n",
    "    argument = argument_labels + [None, None]\n",
    "    \n",
    "    # Create a DataFrame\n",
    "    df = pd.DataFrame([{\"input_form\": input_form, \"argument\": argument}])\n",
    "    return df\n",
    "\n",
    "def map_labels_to_words(predicted_labels, gold_labels, dataset):\n",
    "    tokens = []\n",
    "    for i, (predictions, gold_labels) in enumerate(zip(predicted_labels, gold_labels)):\n",
    "        subword_tokens = tokenizer.convert_ids_to_tokens(dataset[i][\"input_ids\"], skip_special_tokens=True)\n",
    "        \n",
    "        word_tokens = []\n",
    "        word_labels_gold = []\n",
    "        word_labels_pred = []\n",
    "    \n",
    "        current_word = \"\"\n",
    "        current_gold_label = None\n",
    "        current_pred_label = None\n",
    "    \n",
    "        for idx, (subword, gold, pred) in enumerate(zip(subword_tokens, gold_labels, predictions)):\n",
    "            if subword.startswith(\"##\"):  # Continuation of a word\n",
    "                current_word += subword[2:]\n",
    "            else:  # New word starts\n",
    "                if current_word:  # Save the previous word and its label\n",
    "                    word_tokens.append(current_word)\n",
    "                    word_labels_gold.append(current_gold_label)\n",
    "                    word_labels_pred.append(current_pred_label)\n",
    "                \n",
    "                current_word = subword  # Start new word\n",
    "                current_gold_label = gold  # Take the first subword's label\n",
    "                current_pred_label = pred  # Take the first subword's label\n",
    "    \n",
    "        if current_word:\n",
    "            word_tokens.append(current_word)\n",
    "            word_labels_gold.append(current_gold_label)\n",
    "            word_labels_pred.append(current_pred_label)\n",
    "    \n",
    "        tokens.extend(zip(word_tokens, word_labels_gold, word_labels_pred))\n",
    "    \n",
    "    # Create a dataframe and write to CVS\n",
    "    df = pd.DataFrame(tokens, columns=[\"word\", \"gold_label\", \"predicted_label\"])\n",
    "    return df\n",
    "\n",
    "def classify_sentence_bert(sentence, predicate_location, argument_labels, predicate_sense, trainer, tokenizer):\n",
    "    \"\"\"\n",
    "    The standalone function that takes a sentence and predicts the argument labels, using DistilBERT.\n",
    "    \n",
    "    Args:\n",
    "        sentence (list): A list of words.\n",
    "        predicate_location (list): A one-hot vector, indicating the location of the predicate.\n",
    "        argument_labels (list): A list of argument labels.\n",
    "        predicate_sense (str): The sense label of the predicate.\n",
    "        trainer: The HuggingFace Trainer instance to predict labels with.\n",
    "        tokenizer: The HuggingFace Tokenizer to tokenize input sequences with. \n",
    "    \"\"\"\n",
    "    inference_input = create_input_sequence(sentence, predicate_location, argument_labels)\n",
    "    label_map = {'_': 0, 'ARG0': 1, 'ARG1': 2, 'ARG1-DSP': 3, 'ARG2': 4, 'ARG3': 5, 'ARG4': 6, 'ARG5': 7, 'ARGA': 8, 'ARGM-ADJ': 9, 'ARGM-ADV': 10, 'ARGM-CAU': 11, 'ARGM-COM': 12, 'ARGM-CXN': 13, 'ARGM-DIR': 14, 'ARGM-DIS': 15, 'ARGM-EXT': 16, 'ARGM-GOL': 17, 'ARGM-LOC': 18, 'ARGM-LVB': 19, 'ARGM-MNR': 20, 'ARGM-MOD': 21, 'ARGM-NEG': 22, 'ARGM-PRD': 23, 'ARGM-PRP': 24, 'ARGM-PRR': 25, 'ARGM-REC': 26, 'ARGM-TMP': 27, 'C-ARG0': 28, 'C-ARG1': 29, 'C-ARG1-DSP': 30, 'C-ARG2': 31, 'C-ARG3': 32, 'C-ARG4': 33, 'C-ARGM-ADV': 34, 'C-ARGM-COM': 35, 'C-ARGM-CXN': 36, 'C-ARGM-DIR': 37, 'C-ARGM-EXT': 38, 'C-ARGM-GOL': 39, 'C-ARGM-LOC': 40, 'C-ARGM-MNR': 41, 'C-ARGM-PRP': 42, 'C-ARGM-PRR': 43, 'C-ARGM-TMP': 44, 'R-ARG0': 45, 'R-ARG1': 46, 'R-ARG2': 47, 'R-ARG3': 48, 'R-ARG4': 49, 'R-ARGM-ADJ': 50, 'R-ARGM-ADV': 51, 'R-ARGM-CAU': 52, 'R-ARGM-COM': 53, 'R-ARGM-DIR': 54, 'R-ARGM-GOL': 55, 'R-ARGM-LOC': 56, 'R-ARGM-MNR': 57, 'R-ARGM-TMP': 58, None: None}\n",
    "    inference_data = map_labels_in_dataframe(inference_input, label_map)\n",
    "    tokenized_input = tokenize_and_align_labels(tokenizer, inference_data, label_all_tokens=True)\n",
    "    dataset_inference_sample = load_dataset(tokenized_input)\n",
    "    label_list = get_labels_from_map(label_map)\n",
    "    \n",
    "    predictions, labels, _ = trainer.predict(dataset_inference_sample)\n",
    "    argmax_predictions = np.argmax(predictions, axis=2)\n",
    "    \n",
    "    # Extract predicted labels for each token, filtering out special tokens\n",
    "    predicted_labels = [\n",
    "        [label_list[p] for (p, l) in zip(prediction, label) if l != -100]\n",
    "        for prediction, label in zip(argmax_predictions, labels)\n",
    "    ]\n",
    "    \n",
    "    return predicted_labels[0]\n",
    "\n",
    "tokenizer = AutoTokenizer.from_pretrained(\"learned-models/tokenizer.save_pretrained.distillbert-base-uncased-finetuned-srl\")\n",
    "bert_model = AutoModelForTokenClassification.from_pretrained(\"learned-models/model.save_pretrained.distillbert-base-uncased-finetuned-srl\")\n",
    "training_args = TrainingArguments(output_dir=\"learned-models/trainer.save_model.distillbert-base-uncased-finetuned-srl\")\n",
    "\n",
    "trainer = Trainer(\n",
    "    model=bert_model,\n",
    "    args=training_args,\n",
    "    tokenizer=tokenizer\n",
    ")"
   ]
  },
  {
   "cell_type": "markdown",
   "id": "666d7510-9b5b-4827-aa98-0ee64c7b75da",
   "metadata": {},
   "source": [
    "## 2. Load CheckList dataset\n",
    "\n",
    "### 2.1 "
   ]
  },
  {
   "cell_type": "markdown",
   "id": "d077f204-7d8e-4cb7-b0cf-297ea3f22557",
   "metadata": {},
   "source": [
    "Load the `testing-dataset.json` from the `data` directory as a Python dictionary."
   ]
  },
  {
   "cell_type": "code",
   "execution_count": null,
   "id": "9f7cd440-6a49-4fa3-ac77-c0b5eb880187",
   "metadata": {},
   "outputs": [],
   "source": []
  },
  {
   "cell_type": "code",
   "execution_count": 37,
   "id": "13fb87b2-07a5-45b4-acce-e0142cd41901",
   "metadata": {},
   "outputs": [],
   "source": [
    "with open(\"data/testing-dataset.json\", \"r\", encoding=\"utf-8\") as file:\n",
    "    checklist_dataset = json.load(file)"
   ]
  },
  {
   "cell_type": "code",
   "execution_count": 38,
   "id": "4089251f-7941-47c0-866f-a1791301ab25",
   "metadata": {},
   "outputs": [
    {
     "name": "stdout",
     "output_type": "stream",
     "text": [
      "Capability: Long-distance dependencies between predicate and ARG0 (syntactic)\n",
      "\n",
      "  * Test: Effect of injecting relative clause between predicate and ARG0 (INV)\n"
     ]
    },
    {
     "data": {
      "text/html": [],
      "text/plain": [
       "<IPython.core.display.HTML object>"
      ]
     },
     "metadata": {},
     "output_type": "display_data"
    },
    {
     "data": {
      "text/html": [],
      "text/plain": [
       "<IPython.core.display.HTML object>"
      ]
     },
     "metadata": {},
     "output_type": "display_data"
    },
    {
     "data": {
      "text/html": [],
      "text/plain": [
       "<IPython.core.display.HTML object>"
      ]
     },
     "metadata": {},
     "output_type": "display_data"
    },
    {
     "data": {
      "text/html": [],
      "text/plain": [
       "<IPython.core.display.HTML object>"
      ]
     },
     "metadata": {},
     "output_type": "display_data"
    },
    {
     "data": {
      "text/html": [],
      "text/plain": [
       "<IPython.core.display.HTML object>"
      ]
     },
     "metadata": {},
     "output_type": "display_data"
    },
    {
     "data": {
      "text/html": [],
      "text/plain": [
       "<IPython.core.display.HTML object>"
      ]
     },
     "metadata": {},
     "output_type": "display_data"
    },
    {
     "data": {
      "text/html": [],
      "text/plain": [
       "<IPython.core.display.HTML object>"
      ]
     },
     "metadata": {},
     "output_type": "display_data"
    },
    {
     "data": {
      "text/html": [],
      "text/plain": [
       "<IPython.core.display.HTML object>"
      ]
     },
     "metadata": {},
     "output_type": "display_data"
    },
    {
     "data": {
      "text/html": [],
      "text/plain": [
       "<IPython.core.display.HTML object>"
      ]
     },
     "metadata": {},
     "output_type": "display_data"
    },
    {
     "data": {
      "text/html": [],
      "text/plain": [
       "<IPython.core.display.HTML object>"
      ]
     },
     "metadata": {},
     "output_type": "display_data"
    },
    {
     "data": {
      "text/html": [],
      "text/plain": [
       "<IPython.core.display.HTML object>"
      ]
     },
     "metadata": {},
     "output_type": "display_data"
    },
    {
     "data": {
      "text/html": [],
      "text/plain": [
       "<IPython.core.display.HTML object>"
      ]
     },
     "metadata": {},
     "output_type": "display_data"
    },
    {
     "data": {
      "text/html": [],
      "text/plain": [
       "<IPython.core.display.HTML object>"
      ]
     },
     "metadata": {},
     "output_type": "display_data"
    },
    {
     "data": {
      "text/html": [],
      "text/plain": [
       "<IPython.core.display.HTML object>"
      ]
     },
     "metadata": {},
     "output_type": "display_data"
    },
    {
     "data": {
      "text/html": [],
      "text/plain": [
       "<IPython.core.display.HTML object>"
      ]
     },
     "metadata": {},
     "output_type": "display_data"
    },
    {
     "data": {
      "text/html": [],
      "text/plain": [
       "<IPython.core.display.HTML object>"
      ]
     },
     "metadata": {},
     "output_type": "display_data"
    },
    {
     "data": {
      "text/html": [],
      "text/plain": [
       "<IPython.core.display.HTML object>"
      ]
     },
     "metadata": {},
     "output_type": "display_data"
    },
    {
     "data": {
      "text/html": [],
      "text/plain": [
       "<IPython.core.display.HTML object>"
      ]
     },
     "metadata": {},
     "output_type": "display_data"
    },
    {
     "data": {
      "text/html": [],
      "text/plain": [
       "<IPython.core.display.HTML object>"
      ]
     },
     "metadata": {},
     "output_type": "display_data"
    },
    {
     "data": {
      "text/html": [],
      "text/plain": [
       "<IPython.core.display.HTML object>"
      ]
     },
     "metadata": {},
     "output_type": "display_data"
    },
    {
     "name": "stdout",
     "output_type": "stream",
     "text": [
      "\n",
      "      * Failure rates:\n",
      "            Logistic regression: 20.0%\n",
      "            DistillBERT: 30.0%\n",
      "\n",
      "\n",
      "  * Test: Sentences without relative clause between predicate and ARG0 (MFT)\n"
     ]
    },
    {
     "data": {
      "text/html": [],
      "text/plain": [
       "<IPython.core.display.HTML object>"
      ]
     },
     "metadata": {},
     "output_type": "display_data"
    },
    {
     "data": {
      "text/html": [],
      "text/plain": [
       "<IPython.core.display.HTML object>"
      ]
     },
     "metadata": {},
     "output_type": "display_data"
    },
    {
     "data": {
      "text/html": [],
      "text/plain": [
       "<IPython.core.display.HTML object>"
      ]
     },
     "metadata": {},
     "output_type": "display_data"
    },
    {
     "data": {
      "text/html": [],
      "text/plain": [
       "<IPython.core.display.HTML object>"
      ]
     },
     "metadata": {},
     "output_type": "display_data"
    },
    {
     "data": {
      "text/html": [],
      "text/plain": [
       "<IPython.core.display.HTML object>"
      ]
     },
     "metadata": {},
     "output_type": "display_data"
    },
    {
     "data": {
      "text/html": [],
      "text/plain": [
       "<IPython.core.display.HTML object>"
      ]
     },
     "metadata": {},
     "output_type": "display_data"
    },
    {
     "data": {
      "text/html": [],
      "text/plain": [
       "<IPython.core.display.HTML object>"
      ]
     },
     "metadata": {},
     "output_type": "display_data"
    },
    {
     "data": {
      "text/html": [],
      "text/plain": [
       "<IPython.core.display.HTML object>"
      ]
     },
     "metadata": {},
     "output_type": "display_data"
    },
    {
     "data": {
      "text/html": [],
      "text/plain": [
       "<IPython.core.display.HTML object>"
      ]
     },
     "metadata": {},
     "output_type": "display_data"
    },
    {
     "data": {
      "text/html": [],
      "text/plain": [
       "<IPython.core.display.HTML object>"
      ]
     },
     "metadata": {},
     "output_type": "display_data"
    },
    {
     "name": "stdout",
     "output_type": "stream",
     "text": [
      "\n",
      "      * Failure rates:\n",
      "            Logistic regression: 70.0%\n",
      "            DistillBERT: 20.0%\n",
      "\n",
      "\n",
      "  * Test: Sentences with relative clause between predicate and ARG0 (MFT)\n"
     ]
    },
    {
     "data": {
      "text/html": [],
      "text/plain": [
       "<IPython.core.display.HTML object>"
      ]
     },
     "metadata": {},
     "output_type": "display_data"
    },
    {
     "data": {
      "text/html": [],
      "text/plain": [
       "<IPython.core.display.HTML object>"
      ]
     },
     "metadata": {},
     "output_type": "display_data"
    },
    {
     "data": {
      "text/html": [],
      "text/plain": [
       "<IPython.core.display.HTML object>"
      ]
     },
     "metadata": {},
     "output_type": "display_data"
    },
    {
     "data": {
      "text/html": [],
      "text/plain": [
       "<IPython.core.display.HTML object>"
      ]
     },
     "metadata": {},
     "output_type": "display_data"
    },
    {
     "data": {
      "text/html": [],
      "text/plain": [
       "<IPython.core.display.HTML object>"
      ]
     },
     "metadata": {},
     "output_type": "display_data"
    },
    {
     "data": {
      "text/html": [],
      "text/plain": [
       "<IPython.core.display.HTML object>"
      ]
     },
     "metadata": {},
     "output_type": "display_data"
    },
    {
     "data": {
      "text/html": [],
      "text/plain": [
       "<IPython.core.display.HTML object>"
      ]
     },
     "metadata": {},
     "output_type": "display_data"
    },
    {
     "data": {
      "text/html": [],
      "text/plain": [
       "<IPython.core.display.HTML object>"
      ]
     },
     "metadata": {},
     "output_type": "display_data"
    },
    {
     "data": {
      "text/html": [],
      "text/plain": [
       "<IPython.core.display.HTML object>"
      ]
     },
     "metadata": {},
     "output_type": "display_data"
    },
    {
     "data": {
      "text/html": [],
      "text/plain": [
       "<IPython.core.display.HTML object>"
      ]
     },
     "metadata": {},
     "output_type": "display_data"
    },
    {
     "name": "stdout",
     "output_type": "stream",
     "text": [
      "\n",
      "      * Failure rates:\n",
      "            Logistic regression: 90.0%\n",
      "            DistillBERT: 50.0%\n",
      "\n",
      "\n",
      "  > Failure rates (total for capability):\n",
      "        Logistic regression: 60.0%\n",
      "        DistillBERT: 33.333333333333336%\n",
      "\n",
      "=====================================================================================\n",
      "\n",
      "Capability: Long-distance dependencies between predicate and ARG1 (syntactic)\n",
      "\n",
      "  * Test: Effect of injecting adverbial or participial phrase between predicate and ARG1 (INV)\n"
     ]
    },
    {
     "data": {
      "text/html": [],
      "text/plain": [
       "<IPython.core.display.HTML object>"
      ]
     },
     "metadata": {},
     "output_type": "display_data"
    },
    {
     "data": {
      "text/html": [],
      "text/plain": [
       "<IPython.core.display.HTML object>"
      ]
     },
     "metadata": {},
     "output_type": "display_data"
    },
    {
     "data": {
      "text/html": [],
      "text/plain": [
       "<IPython.core.display.HTML object>"
      ]
     },
     "metadata": {},
     "output_type": "display_data"
    },
    {
     "data": {
      "text/html": [],
      "text/plain": [
       "<IPython.core.display.HTML object>"
      ]
     },
     "metadata": {},
     "output_type": "display_data"
    },
    {
     "data": {
      "text/html": [],
      "text/plain": [
       "<IPython.core.display.HTML object>"
      ]
     },
     "metadata": {},
     "output_type": "display_data"
    },
    {
     "data": {
      "text/html": [],
      "text/plain": [
       "<IPython.core.display.HTML object>"
      ]
     },
     "metadata": {},
     "output_type": "display_data"
    },
    {
     "data": {
      "text/html": [],
      "text/plain": [
       "<IPython.core.display.HTML object>"
      ]
     },
     "metadata": {},
     "output_type": "display_data"
    },
    {
     "data": {
      "text/html": [],
      "text/plain": [
       "<IPython.core.display.HTML object>"
      ]
     },
     "metadata": {},
     "output_type": "display_data"
    },
    {
     "data": {
      "text/html": [],
      "text/plain": [
       "<IPython.core.display.HTML object>"
      ]
     },
     "metadata": {},
     "output_type": "display_data"
    },
    {
     "data": {
      "text/html": [],
      "text/plain": [
       "<IPython.core.display.HTML object>"
      ]
     },
     "metadata": {},
     "output_type": "display_data"
    },
    {
     "data": {
      "text/html": [],
      "text/plain": [
       "<IPython.core.display.HTML object>"
      ]
     },
     "metadata": {},
     "output_type": "display_data"
    },
    {
     "data": {
      "text/html": [],
      "text/plain": [
       "<IPython.core.display.HTML object>"
      ]
     },
     "metadata": {},
     "output_type": "display_data"
    },
    {
     "data": {
      "text/html": [],
      "text/plain": [
       "<IPython.core.display.HTML object>"
      ]
     },
     "metadata": {},
     "output_type": "display_data"
    },
    {
     "data": {
      "text/html": [],
      "text/plain": [
       "<IPython.core.display.HTML object>"
      ]
     },
     "metadata": {},
     "output_type": "display_data"
    },
    {
     "data": {
      "text/html": [],
      "text/plain": [
       "<IPython.core.display.HTML object>"
      ]
     },
     "metadata": {},
     "output_type": "display_data"
    },
    {
     "data": {
      "text/html": [],
      "text/plain": [
       "<IPython.core.display.HTML object>"
      ]
     },
     "metadata": {},
     "output_type": "display_data"
    },
    {
     "data": {
      "text/html": [],
      "text/plain": [
       "<IPython.core.display.HTML object>"
      ]
     },
     "metadata": {},
     "output_type": "display_data"
    },
    {
     "data": {
      "text/html": [],
      "text/plain": [
       "<IPython.core.display.HTML object>"
      ]
     },
     "metadata": {},
     "output_type": "display_data"
    },
    {
     "data": {
      "text/html": [],
      "text/plain": [
       "<IPython.core.display.HTML object>"
      ]
     },
     "metadata": {},
     "output_type": "display_data"
    },
    {
     "data": {
      "text/html": [],
      "text/plain": [
       "<IPython.core.display.HTML object>"
      ]
     },
     "metadata": {},
     "output_type": "display_data"
    },
    {
     "name": "stdout",
     "output_type": "stream",
     "text": [
      "\n",
      "      * Failure rates:\n",
      "            Logistic regression: 60.0%\n",
      "            DistillBERT: 60.0%\n",
      "\n",
      "\n",
      "  * Test: Sentence without adverbial or participial phrase between predicate and ARG1 (MFT)\n"
     ]
    },
    {
     "data": {
      "text/html": [],
      "text/plain": [
       "<IPython.core.display.HTML object>"
      ]
     },
     "metadata": {},
     "output_type": "display_data"
    },
    {
     "data": {
      "text/html": [],
      "text/plain": [
       "<IPython.core.display.HTML object>"
      ]
     },
     "metadata": {},
     "output_type": "display_data"
    },
    {
     "data": {
      "text/html": [],
      "text/plain": [
       "<IPython.core.display.HTML object>"
      ]
     },
     "metadata": {},
     "output_type": "display_data"
    },
    {
     "data": {
      "text/html": [],
      "text/plain": [
       "<IPython.core.display.HTML object>"
      ]
     },
     "metadata": {},
     "output_type": "display_data"
    },
    {
     "data": {
      "text/html": [],
      "text/plain": [
       "<IPython.core.display.HTML object>"
      ]
     },
     "metadata": {},
     "output_type": "display_data"
    },
    {
     "data": {
      "text/html": [],
      "text/plain": [
       "<IPython.core.display.HTML object>"
      ]
     },
     "metadata": {},
     "output_type": "display_data"
    },
    {
     "data": {
      "text/html": [],
      "text/plain": [
       "<IPython.core.display.HTML object>"
      ]
     },
     "metadata": {},
     "output_type": "display_data"
    },
    {
     "data": {
      "text/html": [],
      "text/plain": [
       "<IPython.core.display.HTML object>"
      ]
     },
     "metadata": {},
     "output_type": "display_data"
    },
    {
     "data": {
      "text/html": [],
      "text/plain": [
       "<IPython.core.display.HTML object>"
      ]
     },
     "metadata": {},
     "output_type": "display_data"
    },
    {
     "data": {
      "text/html": [],
      "text/plain": [
       "<IPython.core.display.HTML object>"
      ]
     },
     "metadata": {},
     "output_type": "display_data"
    },
    {
     "name": "stdout",
     "output_type": "stream",
     "text": [
      "\n",
      "      * Failure rates:\n",
      "            Logistic regression: 10.0%\n",
      "            DistillBERT: 0.0%\n",
      "\n",
      "\n",
      "  * Test: Sentence with adverbial or participial phrase between predicate and ARG1 (MFT)\n"
     ]
    },
    {
     "data": {
      "text/html": [],
      "text/plain": [
       "<IPython.core.display.HTML object>"
      ]
     },
     "metadata": {},
     "output_type": "display_data"
    },
    {
     "data": {
      "text/html": [],
      "text/plain": [
       "<IPython.core.display.HTML object>"
      ]
     },
     "metadata": {},
     "output_type": "display_data"
    },
    {
     "data": {
      "text/html": [],
      "text/plain": [
       "<IPython.core.display.HTML object>"
      ]
     },
     "metadata": {},
     "output_type": "display_data"
    },
    {
     "data": {
      "text/html": [],
      "text/plain": [
       "<IPython.core.display.HTML object>"
      ]
     },
     "metadata": {},
     "output_type": "display_data"
    },
    {
     "data": {
      "text/html": [],
      "text/plain": [
       "<IPython.core.display.HTML object>"
      ]
     },
     "metadata": {},
     "output_type": "display_data"
    },
    {
     "data": {
      "text/html": [],
      "text/plain": [
       "<IPython.core.display.HTML object>"
      ]
     },
     "metadata": {},
     "output_type": "display_data"
    },
    {
     "data": {
      "text/html": [],
      "text/plain": [
       "<IPython.core.display.HTML object>"
      ]
     },
     "metadata": {},
     "output_type": "display_data"
    },
    {
     "data": {
      "text/html": [],
      "text/plain": [
       "<IPython.core.display.HTML object>"
      ]
     },
     "metadata": {},
     "output_type": "display_data"
    },
    {
     "data": {
      "text/html": [],
      "text/plain": [
       "<IPython.core.display.HTML object>"
      ]
     },
     "metadata": {},
     "output_type": "display_data"
    },
    {
     "data": {
      "text/html": [],
      "text/plain": [
       "<IPython.core.display.HTML object>"
      ]
     },
     "metadata": {},
     "output_type": "display_data"
    },
    {
     "name": "stdout",
     "output_type": "stream",
     "text": [
      "\n",
      "      * Failure rates:\n",
      "            Logistic regression: 70.0%\n",
      "            DistillBERT: 60.0%\n",
      "\n",
      "\n",
      "  > Failure rates (total for capability):\n",
      "        Logistic regression: 46.666666666666664%\n",
      "        DistillBERT: 40.0%\n",
      "\n",
      "=====================================================================================\n",
      "\n",
      "Capability: Robustness to noise in the form of typos (lexical)\n",
      "\n",
      "  * Test: Effect of typos in proper nouns as ARG0 on ARG0 labeling (INV)\n"
     ]
    },
    {
     "data": {
      "text/html": [],
      "text/plain": [
       "<IPython.core.display.HTML object>"
      ]
     },
     "metadata": {},
     "output_type": "display_data"
    },
    {
     "data": {
      "text/html": [],
      "text/plain": [
       "<IPython.core.display.HTML object>"
      ]
     },
     "metadata": {},
     "output_type": "display_data"
    },
    {
     "data": {
      "text/html": [],
      "text/plain": [
       "<IPython.core.display.HTML object>"
      ]
     },
     "metadata": {},
     "output_type": "display_data"
    },
    {
     "data": {
      "text/html": [],
      "text/plain": [
       "<IPython.core.display.HTML object>"
      ]
     },
     "metadata": {},
     "output_type": "display_data"
    },
    {
     "data": {
      "text/html": [],
      "text/plain": [
       "<IPython.core.display.HTML object>"
      ]
     },
     "metadata": {},
     "output_type": "display_data"
    },
    {
     "data": {
      "text/html": [],
      "text/plain": [
       "<IPython.core.display.HTML object>"
      ]
     },
     "metadata": {},
     "output_type": "display_data"
    },
    {
     "data": {
      "text/html": [],
      "text/plain": [
       "<IPython.core.display.HTML object>"
      ]
     },
     "metadata": {},
     "output_type": "display_data"
    },
    {
     "data": {
      "text/html": [],
      "text/plain": [
       "<IPython.core.display.HTML object>"
      ]
     },
     "metadata": {},
     "output_type": "display_data"
    },
    {
     "data": {
      "text/html": [],
      "text/plain": [
       "<IPython.core.display.HTML object>"
      ]
     },
     "metadata": {},
     "output_type": "display_data"
    },
    {
     "data": {
      "text/html": [],
      "text/plain": [
       "<IPython.core.display.HTML object>"
      ]
     },
     "metadata": {},
     "output_type": "display_data"
    },
    {
     "data": {
      "text/html": [],
      "text/plain": [
       "<IPython.core.display.HTML object>"
      ]
     },
     "metadata": {},
     "output_type": "display_data"
    },
    {
     "data": {
      "text/html": [],
      "text/plain": [
       "<IPython.core.display.HTML object>"
      ]
     },
     "metadata": {},
     "output_type": "display_data"
    },
    {
     "data": {
      "text/html": [],
      "text/plain": [
       "<IPython.core.display.HTML object>"
      ]
     },
     "metadata": {},
     "output_type": "display_data"
    },
    {
     "data": {
      "text/html": [],
      "text/plain": [
       "<IPython.core.display.HTML object>"
      ]
     },
     "metadata": {},
     "output_type": "display_data"
    },
    {
     "data": {
      "text/html": [],
      "text/plain": [
       "<IPython.core.display.HTML object>"
      ]
     },
     "metadata": {},
     "output_type": "display_data"
    },
    {
     "data": {
      "text/html": [],
      "text/plain": [
       "<IPython.core.display.HTML object>"
      ]
     },
     "metadata": {},
     "output_type": "display_data"
    },
    {
     "data": {
      "text/html": [],
      "text/plain": [
       "<IPython.core.display.HTML object>"
      ]
     },
     "metadata": {},
     "output_type": "display_data"
    },
    {
     "data": {
      "text/html": [],
      "text/plain": [
       "<IPython.core.display.HTML object>"
      ]
     },
     "metadata": {},
     "output_type": "display_data"
    },
    {
     "data": {
      "text/html": [],
      "text/plain": [
       "<IPython.core.display.HTML object>"
      ]
     },
     "metadata": {},
     "output_type": "display_data"
    },
    {
     "data": {
      "text/html": [],
      "text/plain": [
       "<IPython.core.display.HTML object>"
      ]
     },
     "metadata": {},
     "output_type": "display_data"
    },
    {
     "name": "stdout",
     "output_type": "stream",
     "text": [
      "\n",
      "      * Failure rates:\n",
      "            Logistic regression: 30.0%\n",
      "            DistillBERT: 20.0%\n",
      "\n",
      "\n",
      "  * Test: Effect of typos in common nouns as ARG0 on ARG0 labeling (INV)\n"
     ]
    },
    {
     "data": {
      "text/html": [],
      "text/plain": [
       "<IPython.core.display.HTML object>"
      ]
     },
     "metadata": {},
     "output_type": "display_data"
    },
    {
     "data": {
      "text/html": [],
      "text/plain": [
       "<IPython.core.display.HTML object>"
      ]
     },
     "metadata": {},
     "output_type": "display_data"
    },
    {
     "data": {
      "text/html": [],
      "text/plain": [
       "<IPython.core.display.HTML object>"
      ]
     },
     "metadata": {},
     "output_type": "display_data"
    },
    {
     "data": {
      "text/html": [],
      "text/plain": [
       "<IPython.core.display.HTML object>"
      ]
     },
     "metadata": {},
     "output_type": "display_data"
    },
    {
     "data": {
      "text/html": [],
      "text/plain": [
       "<IPython.core.display.HTML object>"
      ]
     },
     "metadata": {},
     "output_type": "display_data"
    },
    {
     "data": {
      "text/html": [],
      "text/plain": [
       "<IPython.core.display.HTML object>"
      ]
     },
     "metadata": {},
     "output_type": "display_data"
    },
    {
     "data": {
      "text/html": [],
      "text/plain": [
       "<IPython.core.display.HTML object>"
      ]
     },
     "metadata": {},
     "output_type": "display_data"
    },
    {
     "data": {
      "text/html": [],
      "text/plain": [
       "<IPython.core.display.HTML object>"
      ]
     },
     "metadata": {},
     "output_type": "display_data"
    },
    {
     "data": {
      "text/html": [],
      "text/plain": [
       "<IPython.core.display.HTML object>"
      ]
     },
     "metadata": {},
     "output_type": "display_data"
    },
    {
     "data": {
      "text/html": [],
      "text/plain": [
       "<IPython.core.display.HTML object>"
      ]
     },
     "metadata": {},
     "output_type": "display_data"
    },
    {
     "data": {
      "text/html": [],
      "text/plain": [
       "<IPython.core.display.HTML object>"
      ]
     },
     "metadata": {},
     "output_type": "display_data"
    },
    {
     "data": {
      "text/html": [],
      "text/plain": [
       "<IPython.core.display.HTML object>"
      ]
     },
     "metadata": {},
     "output_type": "display_data"
    },
    {
     "data": {
      "text/html": [],
      "text/plain": [
       "<IPython.core.display.HTML object>"
      ]
     },
     "metadata": {},
     "output_type": "display_data"
    },
    {
     "data": {
      "text/html": [],
      "text/plain": [
       "<IPython.core.display.HTML object>"
      ]
     },
     "metadata": {},
     "output_type": "display_data"
    },
    {
     "data": {
      "text/html": [],
      "text/plain": [
       "<IPython.core.display.HTML object>"
      ]
     },
     "metadata": {},
     "output_type": "display_data"
    },
    {
     "data": {
      "text/html": [],
      "text/plain": [
       "<IPython.core.display.HTML object>"
      ]
     },
     "metadata": {},
     "output_type": "display_data"
    },
    {
     "data": {
      "text/html": [],
      "text/plain": [
       "<IPython.core.display.HTML object>"
      ]
     },
     "metadata": {},
     "output_type": "display_data"
    },
    {
     "data": {
      "text/html": [],
      "text/plain": [
       "<IPython.core.display.HTML object>"
      ]
     },
     "metadata": {},
     "output_type": "display_data"
    },
    {
     "data": {
      "text/html": [],
      "text/plain": [
       "<IPython.core.display.HTML object>"
      ]
     },
     "metadata": {},
     "output_type": "display_data"
    },
    {
     "data": {
      "text/html": [],
      "text/plain": [
       "<IPython.core.display.HTML object>"
      ]
     },
     "metadata": {},
     "output_type": "display_data"
    },
    {
     "name": "stdout",
     "output_type": "stream",
     "text": [
      "\n",
      "      * Failure rates:\n",
      "            Logistic regression: 20.0%\n",
      "            DistillBERT: 0.0%\n",
      "\n",
      "\n",
      "  * Test: Sentences without typos in ARG0 for proper noun ARG0 labeling (MFT)\n"
     ]
    },
    {
     "data": {
      "text/html": [],
      "text/plain": [
       "<IPython.core.display.HTML object>"
      ]
     },
     "metadata": {},
     "output_type": "display_data"
    },
    {
     "data": {
      "text/html": [],
      "text/plain": [
       "<IPython.core.display.HTML object>"
      ]
     },
     "metadata": {},
     "output_type": "display_data"
    },
    {
     "data": {
      "text/html": [],
      "text/plain": [
       "<IPython.core.display.HTML object>"
      ]
     },
     "metadata": {},
     "output_type": "display_data"
    },
    {
     "data": {
      "text/html": [],
      "text/plain": [
       "<IPython.core.display.HTML object>"
      ]
     },
     "metadata": {},
     "output_type": "display_data"
    },
    {
     "data": {
      "text/html": [],
      "text/plain": [
       "<IPython.core.display.HTML object>"
      ]
     },
     "metadata": {},
     "output_type": "display_data"
    },
    {
     "data": {
      "text/html": [],
      "text/plain": [
       "<IPython.core.display.HTML object>"
      ]
     },
     "metadata": {},
     "output_type": "display_data"
    },
    {
     "data": {
      "text/html": [],
      "text/plain": [
       "<IPython.core.display.HTML object>"
      ]
     },
     "metadata": {},
     "output_type": "display_data"
    },
    {
     "data": {
      "text/html": [],
      "text/plain": [
       "<IPython.core.display.HTML object>"
      ]
     },
     "metadata": {},
     "output_type": "display_data"
    },
    {
     "data": {
      "text/html": [],
      "text/plain": [
       "<IPython.core.display.HTML object>"
      ]
     },
     "metadata": {},
     "output_type": "display_data"
    },
    {
     "data": {
      "text/html": [],
      "text/plain": [
       "<IPython.core.display.HTML object>"
      ]
     },
     "metadata": {},
     "output_type": "display_data"
    },
    {
     "name": "stdout",
     "output_type": "stream",
     "text": [
      "\n",
      "      * Failure rates:\n",
      "            Logistic regression: 60.0%\n",
      "            DistillBERT: 0.0%\n",
      "\n",
      "\n",
      "  * Test: Sentences with typos in ARG0 for proper noun ARG0 labeling (MFT)\n"
     ]
    },
    {
     "data": {
      "text/html": [],
      "text/plain": [
       "<IPython.core.display.HTML object>"
      ]
     },
     "metadata": {},
     "output_type": "display_data"
    },
    {
     "data": {
      "text/html": [],
      "text/plain": [
       "<IPython.core.display.HTML object>"
      ]
     },
     "metadata": {},
     "output_type": "display_data"
    },
    {
     "data": {
      "text/html": [],
      "text/plain": [
       "<IPython.core.display.HTML object>"
      ]
     },
     "metadata": {},
     "output_type": "display_data"
    },
    {
     "data": {
      "text/html": [],
      "text/plain": [
       "<IPython.core.display.HTML object>"
      ]
     },
     "metadata": {},
     "output_type": "display_data"
    },
    {
     "data": {
      "text/html": [],
      "text/plain": [
       "<IPython.core.display.HTML object>"
      ]
     },
     "metadata": {},
     "output_type": "display_data"
    },
    {
     "data": {
      "text/html": [],
      "text/plain": [
       "<IPython.core.display.HTML object>"
      ]
     },
     "metadata": {},
     "output_type": "display_data"
    },
    {
     "data": {
      "text/html": [],
      "text/plain": [
       "<IPython.core.display.HTML object>"
      ]
     },
     "metadata": {},
     "output_type": "display_data"
    },
    {
     "data": {
      "text/html": [],
      "text/plain": [
       "<IPython.core.display.HTML object>"
      ]
     },
     "metadata": {},
     "output_type": "display_data"
    },
    {
     "data": {
      "text/html": [],
      "text/plain": [
       "<IPython.core.display.HTML object>"
      ]
     },
     "metadata": {},
     "output_type": "display_data"
    },
    {
     "data": {
      "text/html": [],
      "text/plain": [
       "<IPython.core.display.HTML object>"
      ]
     },
     "metadata": {},
     "output_type": "display_data"
    },
    {
     "name": "stdout",
     "output_type": "stream",
     "text": [
      "\n",
      "      * Failure rates:\n",
      "            Logistic regression: 90.0%\n",
      "            DistillBERT: 20.0%\n",
      "\n",
      "\n",
      "  * Test: Sentences without typos in ARG0 for common noun ARG0 labeling (MFT)\n"
     ]
    },
    {
     "data": {
      "text/html": [],
      "text/plain": [
       "<IPython.core.display.HTML object>"
      ]
     },
     "metadata": {},
     "output_type": "display_data"
    },
    {
     "data": {
      "text/html": [],
      "text/plain": [
       "<IPython.core.display.HTML object>"
      ]
     },
     "metadata": {},
     "output_type": "display_data"
    },
    {
     "data": {
      "text/html": [],
      "text/plain": [
       "<IPython.core.display.HTML object>"
      ]
     },
     "metadata": {},
     "output_type": "display_data"
    },
    {
     "data": {
      "text/html": [],
      "text/plain": [
       "<IPython.core.display.HTML object>"
      ]
     },
     "metadata": {},
     "output_type": "display_data"
    },
    {
     "data": {
      "text/html": [],
      "text/plain": [
       "<IPython.core.display.HTML object>"
      ]
     },
     "metadata": {},
     "output_type": "display_data"
    },
    {
     "data": {
      "text/html": [],
      "text/plain": [
       "<IPython.core.display.HTML object>"
      ]
     },
     "metadata": {},
     "output_type": "display_data"
    },
    {
     "data": {
      "text/html": [],
      "text/plain": [
       "<IPython.core.display.HTML object>"
      ]
     },
     "metadata": {},
     "output_type": "display_data"
    },
    {
     "data": {
      "text/html": [],
      "text/plain": [
       "<IPython.core.display.HTML object>"
      ]
     },
     "metadata": {},
     "output_type": "display_data"
    },
    {
     "data": {
      "text/html": [],
      "text/plain": [
       "<IPython.core.display.HTML object>"
      ]
     },
     "metadata": {},
     "output_type": "display_data"
    },
    {
     "data": {
      "text/html": [],
      "text/plain": [
       "<IPython.core.display.HTML object>"
      ]
     },
     "metadata": {},
     "output_type": "display_data"
    },
    {
     "name": "stdout",
     "output_type": "stream",
     "text": [
      "\n",
      "      * Failure rates:\n",
      "            Logistic regression: 60.0%\n",
      "            DistillBERT: 0.0%\n",
      "\n",
      "\n",
      "  * Test: Sentences with typos in ARG0 for common noun ARG0 labeling (MFT)\n"
     ]
    },
    {
     "data": {
      "text/html": [],
      "text/plain": [
       "<IPython.core.display.HTML object>"
      ]
     },
     "metadata": {},
     "output_type": "display_data"
    },
    {
     "data": {
      "text/html": [],
      "text/plain": [
       "<IPython.core.display.HTML object>"
      ]
     },
     "metadata": {},
     "output_type": "display_data"
    },
    {
     "data": {
      "text/html": [],
      "text/plain": [
       "<IPython.core.display.HTML object>"
      ]
     },
     "metadata": {},
     "output_type": "display_data"
    },
    {
     "data": {
      "text/html": [],
      "text/plain": [
       "<IPython.core.display.HTML object>"
      ]
     },
     "metadata": {},
     "output_type": "display_data"
    },
    {
     "data": {
      "text/html": [],
      "text/plain": [
       "<IPython.core.display.HTML object>"
      ]
     },
     "metadata": {},
     "output_type": "display_data"
    },
    {
     "data": {
      "text/html": [],
      "text/plain": [
       "<IPython.core.display.HTML object>"
      ]
     },
     "metadata": {},
     "output_type": "display_data"
    },
    {
     "data": {
      "text/html": [],
      "text/plain": [
       "<IPython.core.display.HTML object>"
      ]
     },
     "metadata": {},
     "output_type": "display_data"
    },
    {
     "data": {
      "text/html": [],
      "text/plain": [
       "<IPython.core.display.HTML object>"
      ]
     },
     "metadata": {},
     "output_type": "display_data"
    },
    {
     "data": {
      "text/html": [],
      "text/plain": [
       "<IPython.core.display.HTML object>"
      ]
     },
     "metadata": {},
     "output_type": "display_data"
    },
    {
     "data": {
      "text/html": [],
      "text/plain": [
       "<IPython.core.display.HTML object>"
      ]
     },
     "metadata": {},
     "output_type": "display_data"
    },
    {
     "name": "stdout",
     "output_type": "stream",
     "text": [
      "\n",
      "      * Failure rates:\n",
      "            Logistic regression: 80.0%\n",
      "            DistillBERT: 0.0%\n",
      "\n",
      "\n",
      "  > Failure rates (total for capability):\n",
      "        Logistic regression: 56.666666666666664%\n",
      "        DistillBERT: 6.666666666666667%\n",
      "\n",
      "=====================================================================================\n",
      "\n",
      "Capability: Effect of semantic atypicality in active voice syntactically simple SVO sentences on ARG0 labeling (lexical)\n",
      "\n",
      "  * Test: Animate objects as ARG0 (MFT)\n"
     ]
    },
    {
     "data": {
      "text/html": [],
      "text/plain": [
       "<IPython.core.display.HTML object>"
      ]
     },
     "metadata": {},
     "output_type": "display_data"
    },
    {
     "data": {
      "text/html": [],
      "text/plain": [
       "<IPython.core.display.HTML object>"
      ]
     },
     "metadata": {},
     "output_type": "display_data"
    },
    {
     "data": {
      "text/html": [],
      "text/plain": [
       "<IPython.core.display.HTML object>"
      ]
     },
     "metadata": {},
     "output_type": "display_data"
    },
    {
     "data": {
      "text/html": [],
      "text/plain": [
       "<IPython.core.display.HTML object>"
      ]
     },
     "metadata": {},
     "output_type": "display_data"
    },
    {
     "data": {
      "text/html": [],
      "text/plain": [
       "<IPython.core.display.HTML object>"
      ]
     },
     "metadata": {},
     "output_type": "display_data"
    },
    {
     "data": {
      "text/html": [],
      "text/plain": [
       "<IPython.core.display.HTML object>"
      ]
     },
     "metadata": {},
     "output_type": "display_data"
    },
    {
     "data": {
      "text/html": [],
      "text/plain": [
       "<IPython.core.display.HTML object>"
      ]
     },
     "metadata": {},
     "output_type": "display_data"
    },
    {
     "data": {
      "text/html": [],
      "text/plain": [
       "<IPython.core.display.HTML object>"
      ]
     },
     "metadata": {},
     "output_type": "display_data"
    },
    {
     "data": {
      "text/html": [],
      "text/plain": [
       "<IPython.core.display.HTML object>"
      ]
     },
     "metadata": {},
     "output_type": "display_data"
    },
    {
     "data": {
      "text/html": [],
      "text/plain": [
       "<IPython.core.display.HTML object>"
      ]
     },
     "metadata": {},
     "output_type": "display_data"
    },
    {
     "name": "stdout",
     "output_type": "stream",
     "text": [
      "\n",
      "      * Failure rates:\n",
      "            Logistic regression: 90.0%\n",
      "            DistillBERT: 0.0%\n",
      "\n",
      "\n",
      "  * Test: Inanimate objects as ARG0 (MFT)\n"
     ]
    },
    {
     "data": {
      "text/html": [],
      "text/plain": [
       "<IPython.core.display.HTML object>"
      ]
     },
     "metadata": {},
     "output_type": "display_data"
    },
    {
     "data": {
      "text/html": [],
      "text/plain": [
       "<IPython.core.display.HTML object>"
      ]
     },
     "metadata": {},
     "output_type": "display_data"
    },
    {
     "data": {
      "text/html": [],
      "text/plain": [
       "<IPython.core.display.HTML object>"
      ]
     },
     "metadata": {},
     "output_type": "display_data"
    },
    {
     "data": {
      "text/html": [],
      "text/plain": [
       "<IPython.core.display.HTML object>"
      ]
     },
     "metadata": {},
     "output_type": "display_data"
    },
    {
     "data": {
      "text/html": [],
      "text/plain": [
       "<IPython.core.display.HTML object>"
      ]
     },
     "metadata": {},
     "output_type": "display_data"
    },
    {
     "data": {
      "text/html": [],
      "text/plain": [
       "<IPython.core.display.HTML object>"
      ]
     },
     "metadata": {},
     "output_type": "display_data"
    },
    {
     "data": {
      "text/html": [],
      "text/plain": [
       "<IPython.core.display.HTML object>"
      ]
     },
     "metadata": {},
     "output_type": "display_data"
    },
    {
     "data": {
      "text/html": [],
      "text/plain": [
       "<IPython.core.display.HTML object>"
      ]
     },
     "metadata": {},
     "output_type": "display_data"
    },
    {
     "data": {
      "text/html": [],
      "text/plain": [
       "<IPython.core.display.HTML object>"
      ]
     },
     "metadata": {},
     "output_type": "display_data"
    },
    {
     "data": {
      "text/html": [],
      "text/plain": [
       "<IPython.core.display.HTML object>"
      ]
     },
     "metadata": {},
     "output_type": "display_data"
    },
    {
     "name": "stdout",
     "output_type": "stream",
     "text": [
      "\n",
      "      * Failure rates:\n",
      "            Logistic regression: 100.0%\n",
      "            DistillBERT: 40.0%\n",
      "\n",
      "\n",
      "  * Test: Animate versus inanimate concepts as ARG0 (INV)\n"
     ]
    },
    {
     "data": {
      "text/html": [],
      "text/plain": [
       "<IPython.core.display.HTML object>"
      ]
     },
     "metadata": {},
     "output_type": "display_data"
    },
    {
     "data": {
      "text/html": [],
      "text/plain": [
       "<IPython.core.display.HTML object>"
      ]
     },
     "metadata": {},
     "output_type": "display_data"
    },
    {
     "data": {
      "text/html": [],
      "text/plain": [
       "<IPython.core.display.HTML object>"
      ]
     },
     "metadata": {},
     "output_type": "display_data"
    },
    {
     "data": {
      "text/html": [],
      "text/plain": [
       "<IPython.core.display.HTML object>"
      ]
     },
     "metadata": {},
     "output_type": "display_data"
    },
    {
     "data": {
      "text/html": [],
      "text/plain": [
       "<IPython.core.display.HTML object>"
      ]
     },
     "metadata": {},
     "output_type": "display_data"
    },
    {
     "data": {
      "text/html": [],
      "text/plain": [
       "<IPython.core.display.HTML object>"
      ]
     },
     "metadata": {},
     "output_type": "display_data"
    },
    {
     "data": {
      "text/html": [],
      "text/plain": [
       "<IPython.core.display.HTML object>"
      ]
     },
     "metadata": {},
     "output_type": "display_data"
    },
    {
     "data": {
      "text/html": [],
      "text/plain": [
       "<IPython.core.display.HTML object>"
      ]
     },
     "metadata": {},
     "output_type": "display_data"
    },
    {
     "data": {
      "text/html": [],
      "text/plain": [
       "<IPython.core.display.HTML object>"
      ]
     },
     "metadata": {},
     "output_type": "display_data"
    },
    {
     "data": {
      "text/html": [],
      "text/plain": [
       "<IPython.core.display.HTML object>"
      ]
     },
     "metadata": {},
     "output_type": "display_data"
    },
    {
     "data": {
      "text/html": [],
      "text/plain": [
       "<IPython.core.display.HTML object>"
      ]
     },
     "metadata": {},
     "output_type": "display_data"
    },
    {
     "data": {
      "text/html": [],
      "text/plain": [
       "<IPython.core.display.HTML object>"
      ]
     },
     "metadata": {},
     "output_type": "display_data"
    },
    {
     "data": {
      "text/html": [],
      "text/plain": [
       "<IPython.core.display.HTML object>"
      ]
     },
     "metadata": {},
     "output_type": "display_data"
    },
    {
     "data": {
      "text/html": [],
      "text/plain": [
       "<IPython.core.display.HTML object>"
      ]
     },
     "metadata": {},
     "output_type": "display_data"
    },
    {
     "data": {
      "text/html": [],
      "text/plain": [
       "<IPython.core.display.HTML object>"
      ]
     },
     "metadata": {},
     "output_type": "display_data"
    },
    {
     "data": {
      "text/html": [],
      "text/plain": [
       "<IPython.core.display.HTML object>"
      ]
     },
     "metadata": {},
     "output_type": "display_data"
    },
    {
     "data": {
      "text/html": [],
      "text/plain": [
       "<IPython.core.display.HTML object>"
      ]
     },
     "metadata": {},
     "output_type": "display_data"
    },
    {
     "data": {
      "text/html": [],
      "text/plain": [
       "<IPython.core.display.HTML object>"
      ]
     },
     "metadata": {},
     "output_type": "display_data"
    },
    {
     "data": {
      "text/html": [],
      "text/plain": [
       "<IPython.core.display.HTML object>"
      ]
     },
     "metadata": {},
     "output_type": "display_data"
    },
    {
     "data": {
      "text/html": [],
      "text/plain": [
       "<IPython.core.display.HTML object>"
      ]
     },
     "metadata": {},
     "output_type": "display_data"
    },
    {
     "name": "stdout",
     "output_type": "stream",
     "text": [
      "\n",
      "      * Failure rates:\n",
      "            Logistic regression: 10.0%\n",
      "            DistillBERT: 40.0%\n",
      "\n",
      "\n",
      "  * Test: Non-abstract concepts as ARG0 (MFT)\n"
     ]
    },
    {
     "data": {
      "text/html": [],
      "text/plain": [
       "<IPython.core.display.HTML object>"
      ]
     },
     "metadata": {},
     "output_type": "display_data"
    },
    {
     "data": {
      "text/html": [],
      "text/plain": [
       "<IPython.core.display.HTML object>"
      ]
     },
     "metadata": {},
     "output_type": "display_data"
    },
    {
     "data": {
      "text/html": [],
      "text/plain": [
       "<IPython.core.display.HTML object>"
      ]
     },
     "metadata": {},
     "output_type": "display_data"
    },
    {
     "data": {
      "text/html": [],
      "text/plain": [
       "<IPython.core.display.HTML object>"
      ]
     },
     "metadata": {},
     "output_type": "display_data"
    },
    {
     "data": {
      "text/html": [],
      "text/plain": [
       "<IPython.core.display.HTML object>"
      ]
     },
     "metadata": {},
     "output_type": "display_data"
    },
    {
     "data": {
      "text/html": [],
      "text/plain": [
       "<IPython.core.display.HTML object>"
      ]
     },
     "metadata": {},
     "output_type": "display_data"
    },
    {
     "data": {
      "text/html": [],
      "text/plain": [
       "<IPython.core.display.HTML object>"
      ]
     },
     "metadata": {},
     "output_type": "display_data"
    },
    {
     "data": {
      "text/html": [],
      "text/plain": [
       "<IPython.core.display.HTML object>"
      ]
     },
     "metadata": {},
     "output_type": "display_data"
    },
    {
     "data": {
      "text/html": [],
      "text/plain": [
       "<IPython.core.display.HTML object>"
      ]
     },
     "metadata": {},
     "output_type": "display_data"
    },
    {
     "data": {
      "text/html": [],
      "text/plain": [
       "<IPython.core.display.HTML object>"
      ]
     },
     "metadata": {},
     "output_type": "display_data"
    },
    {
     "name": "stdout",
     "output_type": "stream",
     "text": [
      "\n",
      "      * Failure rates:\n",
      "            Logistic regression: 100.0%\n",
      "            DistillBERT: 70.0%\n",
      "\n",
      "\n",
      "  * Test: Abstract concepts as ARG0 (MFT)\n"
     ]
    },
    {
     "data": {
      "text/html": [],
      "text/plain": [
       "<IPython.core.display.HTML object>"
      ]
     },
     "metadata": {},
     "output_type": "display_data"
    },
    {
     "data": {
      "text/html": [],
      "text/plain": [
       "<IPython.core.display.HTML object>"
      ]
     },
     "metadata": {},
     "output_type": "display_data"
    },
    {
     "data": {
      "text/html": [],
      "text/plain": [
       "<IPython.core.display.HTML object>"
      ]
     },
     "metadata": {},
     "output_type": "display_data"
    },
    {
     "data": {
      "text/html": [],
      "text/plain": [
       "<IPython.core.display.HTML object>"
      ]
     },
     "metadata": {},
     "output_type": "display_data"
    },
    {
     "data": {
      "text/html": [],
      "text/plain": [
       "<IPython.core.display.HTML object>"
      ]
     },
     "metadata": {},
     "output_type": "display_data"
    },
    {
     "data": {
      "text/html": [],
      "text/plain": [
       "<IPython.core.display.HTML object>"
      ]
     },
     "metadata": {},
     "output_type": "display_data"
    },
    {
     "data": {
      "text/html": [],
      "text/plain": [
       "<IPython.core.display.HTML object>"
      ]
     },
     "metadata": {},
     "output_type": "display_data"
    },
    {
     "data": {
      "text/html": [],
      "text/plain": [
       "<IPython.core.display.HTML object>"
      ]
     },
     "metadata": {},
     "output_type": "display_data"
    },
    {
     "data": {
      "text/html": [],
      "text/plain": [
       "<IPython.core.display.HTML object>"
      ]
     },
     "metadata": {},
     "output_type": "display_data"
    },
    {
     "data": {
      "text/html": [],
      "text/plain": [
       "<IPython.core.display.HTML object>"
      ]
     },
     "metadata": {},
     "output_type": "display_data"
    },
    {
     "name": "stdout",
     "output_type": "stream",
     "text": [
      "\n",
      "      * Failure rates:\n",
      "            Logistic regression: 100.0%\n",
      "            DistillBERT: 90.0%\n",
      "\n",
      "\n",
      "  * Test: Abstract vs non-abstract concepts as ARG0 (INV)\n"
     ]
    },
    {
     "data": {
      "text/html": [],
      "text/plain": [
       "<IPython.core.display.HTML object>"
      ]
     },
     "metadata": {},
     "output_type": "display_data"
    },
    {
     "data": {
      "text/html": [],
      "text/plain": [
       "<IPython.core.display.HTML object>"
      ]
     },
     "metadata": {},
     "output_type": "display_data"
    },
    {
     "data": {
      "text/html": [],
      "text/plain": [
       "<IPython.core.display.HTML object>"
      ]
     },
     "metadata": {},
     "output_type": "display_data"
    },
    {
     "data": {
      "text/html": [],
      "text/plain": [
       "<IPython.core.display.HTML object>"
      ]
     },
     "metadata": {},
     "output_type": "display_data"
    },
    {
     "data": {
      "text/html": [],
      "text/plain": [
       "<IPython.core.display.HTML object>"
      ]
     },
     "metadata": {},
     "output_type": "display_data"
    },
    {
     "data": {
      "text/html": [],
      "text/plain": [
       "<IPython.core.display.HTML object>"
      ]
     },
     "metadata": {},
     "output_type": "display_data"
    },
    {
     "data": {
      "text/html": [],
      "text/plain": [
       "<IPython.core.display.HTML object>"
      ]
     },
     "metadata": {},
     "output_type": "display_data"
    },
    {
     "data": {
      "text/html": [],
      "text/plain": [
       "<IPython.core.display.HTML object>"
      ]
     },
     "metadata": {},
     "output_type": "display_data"
    },
    {
     "data": {
      "text/html": [],
      "text/plain": [
       "<IPython.core.display.HTML object>"
      ]
     },
     "metadata": {},
     "output_type": "display_data"
    },
    {
     "data": {
      "text/html": [],
      "text/plain": [
       "<IPython.core.display.HTML object>"
      ]
     },
     "metadata": {},
     "output_type": "display_data"
    },
    {
     "data": {
      "text/html": [],
      "text/plain": [
       "<IPython.core.display.HTML object>"
      ]
     },
     "metadata": {},
     "output_type": "display_data"
    },
    {
     "data": {
      "text/html": [],
      "text/plain": [
       "<IPython.core.display.HTML object>"
      ]
     },
     "metadata": {},
     "output_type": "display_data"
    },
    {
     "data": {
      "text/html": [],
      "text/plain": [
       "<IPython.core.display.HTML object>"
      ]
     },
     "metadata": {},
     "output_type": "display_data"
    },
    {
     "data": {
      "text/html": [],
      "text/plain": [
       "<IPython.core.display.HTML object>"
      ]
     },
     "metadata": {},
     "output_type": "display_data"
    },
    {
     "data": {
      "text/html": [],
      "text/plain": [
       "<IPython.core.display.HTML object>"
      ]
     },
     "metadata": {},
     "output_type": "display_data"
    },
    {
     "data": {
      "text/html": [],
      "text/plain": [
       "<IPython.core.display.HTML object>"
      ]
     },
     "metadata": {},
     "output_type": "display_data"
    },
    {
     "data": {
      "text/html": [],
      "text/plain": [
       "<IPython.core.display.HTML object>"
      ]
     },
     "metadata": {},
     "output_type": "display_data"
    },
    {
     "data": {
      "text/html": [],
      "text/plain": [
       "<IPython.core.display.HTML object>"
      ]
     },
     "metadata": {},
     "output_type": "display_data"
    },
    {
     "data": {
      "text/html": [],
      "text/plain": [
       "<IPython.core.display.HTML object>"
      ]
     },
     "metadata": {},
     "output_type": "display_data"
    },
    {
     "data": {
      "text/html": [],
      "text/plain": [
       "<IPython.core.display.HTML object>"
      ]
     },
     "metadata": {},
     "output_type": "display_data"
    },
    {
     "name": "stdout",
     "output_type": "stream",
     "text": [
      "\n",
      "      * Failure rates:\n",
      "            Logistic regression: 0.0%\n",
      "            DistillBERT: 30.0%\n",
      "\n",
      "\n",
      "  > Failure rates (total for capability):\n",
      "        Logistic regression: 66.66666666666667%\n",
      "        DistillBERT: 45.0%\n",
      "\n",
      "=====================================================================================\n",
      "\n",
      "Capability: Dealing with dative verb alternations (syntactic)\n",
      "\n",
      "  * Test: Dative verb alternations effect on ARG1 (INV)\n"
     ]
    },
    {
     "data": {
      "text/html": [],
      "text/plain": [
       "<IPython.core.display.HTML object>"
      ]
     },
     "metadata": {},
     "output_type": "display_data"
    },
    {
     "data": {
      "text/html": [],
      "text/plain": [
       "<IPython.core.display.HTML object>"
      ]
     },
     "metadata": {},
     "output_type": "display_data"
    },
    {
     "data": {
      "text/html": [],
      "text/plain": [
       "<IPython.core.display.HTML object>"
      ]
     },
     "metadata": {},
     "output_type": "display_data"
    },
    {
     "data": {
      "text/html": [],
      "text/plain": [
       "<IPython.core.display.HTML object>"
      ]
     },
     "metadata": {},
     "output_type": "display_data"
    },
    {
     "data": {
      "text/html": [],
      "text/plain": [
       "<IPython.core.display.HTML object>"
      ]
     },
     "metadata": {},
     "output_type": "display_data"
    },
    {
     "data": {
      "text/html": [],
      "text/plain": [
       "<IPython.core.display.HTML object>"
      ]
     },
     "metadata": {},
     "output_type": "display_data"
    },
    {
     "data": {
      "text/html": [],
      "text/plain": [
       "<IPython.core.display.HTML object>"
      ]
     },
     "metadata": {},
     "output_type": "display_data"
    },
    {
     "data": {
      "text/html": [],
      "text/plain": [
       "<IPython.core.display.HTML object>"
      ]
     },
     "metadata": {},
     "output_type": "display_data"
    },
    {
     "data": {
      "text/html": [],
      "text/plain": [
       "<IPython.core.display.HTML object>"
      ]
     },
     "metadata": {},
     "output_type": "display_data"
    },
    {
     "data": {
      "text/html": [],
      "text/plain": [
       "<IPython.core.display.HTML object>"
      ]
     },
     "metadata": {},
     "output_type": "display_data"
    },
    {
     "data": {
      "text/html": [],
      "text/plain": [
       "<IPython.core.display.HTML object>"
      ]
     },
     "metadata": {},
     "output_type": "display_data"
    },
    {
     "data": {
      "text/html": [],
      "text/plain": [
       "<IPython.core.display.HTML object>"
      ]
     },
     "metadata": {},
     "output_type": "display_data"
    },
    {
     "data": {
      "text/html": [],
      "text/plain": [
       "<IPython.core.display.HTML object>"
      ]
     },
     "metadata": {},
     "output_type": "display_data"
    },
    {
     "data": {
      "text/html": [],
      "text/plain": [
       "<IPython.core.display.HTML object>"
      ]
     },
     "metadata": {},
     "output_type": "display_data"
    },
    {
     "data": {
      "text/html": [],
      "text/plain": [
       "<IPython.core.display.HTML object>"
      ]
     },
     "metadata": {},
     "output_type": "display_data"
    },
    {
     "data": {
      "text/html": [],
      "text/plain": [
       "<IPython.core.display.HTML object>"
      ]
     },
     "metadata": {},
     "output_type": "display_data"
    },
    {
     "data": {
      "text/html": [],
      "text/plain": [
       "<IPython.core.display.HTML object>"
      ]
     },
     "metadata": {},
     "output_type": "display_data"
    },
    {
     "data": {
      "text/html": [],
      "text/plain": [
       "<IPython.core.display.HTML object>"
      ]
     },
     "metadata": {},
     "output_type": "display_data"
    },
    {
     "data": {
      "text/html": [],
      "text/plain": [
       "<IPython.core.display.HTML object>"
      ]
     },
     "metadata": {},
     "output_type": "display_data"
    },
    {
     "data": {
      "text/html": [],
      "text/plain": [
       "<IPython.core.display.HTML object>"
      ]
     },
     "metadata": {},
     "output_type": "display_data"
    },
    {
     "name": "stdout",
     "output_type": "stream",
     "text": [
      "\n",
      "      * Failure rates:\n",
      "            Logistic regression: 0.0%\n",
      "            DistillBERT: 0.0%\n",
      "\n",
      "\n",
      "  * Test: Dative verb alternations with prepositional dative construction for ARG1 (MFT)\n"
     ]
    },
    {
     "data": {
      "text/html": [],
      "text/plain": [
       "<IPython.core.display.HTML object>"
      ]
     },
     "metadata": {},
     "output_type": "display_data"
    },
    {
     "data": {
      "text/html": [],
      "text/plain": [
       "<IPython.core.display.HTML object>"
      ]
     },
     "metadata": {},
     "output_type": "display_data"
    },
    {
     "data": {
      "text/html": [],
      "text/plain": [
       "<IPython.core.display.HTML object>"
      ]
     },
     "metadata": {},
     "output_type": "display_data"
    },
    {
     "data": {
      "text/html": [],
      "text/plain": [
       "<IPython.core.display.HTML object>"
      ]
     },
     "metadata": {},
     "output_type": "display_data"
    },
    {
     "data": {
      "text/html": [],
      "text/plain": [
       "<IPython.core.display.HTML object>"
      ]
     },
     "metadata": {},
     "output_type": "display_data"
    },
    {
     "data": {
      "text/html": [],
      "text/plain": [
       "<IPython.core.display.HTML object>"
      ]
     },
     "metadata": {},
     "output_type": "display_data"
    },
    {
     "data": {
      "text/html": [],
      "text/plain": [
       "<IPython.core.display.HTML object>"
      ]
     },
     "metadata": {},
     "output_type": "display_data"
    },
    {
     "data": {
      "text/html": [],
      "text/plain": [
       "<IPython.core.display.HTML object>"
      ]
     },
     "metadata": {},
     "output_type": "display_data"
    },
    {
     "data": {
      "text/html": [],
      "text/plain": [
       "<IPython.core.display.HTML object>"
      ]
     },
     "metadata": {},
     "output_type": "display_data"
    },
    {
     "data": {
      "text/html": [],
      "text/plain": [
       "<IPython.core.display.HTML object>"
      ]
     },
     "metadata": {},
     "output_type": "display_data"
    },
    {
     "name": "stdout",
     "output_type": "stream",
     "text": [
      "\n",
      "      * Failure rates:\n",
      "            Logistic regression: 80.0%\n",
      "            DistillBERT: 30.0%\n",
      "\n",
      "\n",
      "  * Test: Dative verb alternations with double object construction for ARG1 (MFT)\n"
     ]
    },
    {
     "data": {
      "text/html": [],
      "text/plain": [
       "<IPython.core.display.HTML object>"
      ]
     },
     "metadata": {},
     "output_type": "display_data"
    },
    {
     "data": {
      "text/html": [],
      "text/plain": [
       "<IPython.core.display.HTML object>"
      ]
     },
     "metadata": {},
     "output_type": "display_data"
    },
    {
     "data": {
      "text/html": [],
      "text/plain": [
       "<IPython.core.display.HTML object>"
      ]
     },
     "metadata": {},
     "output_type": "display_data"
    },
    {
     "data": {
      "text/html": [],
      "text/plain": [
       "<IPython.core.display.HTML object>"
      ]
     },
     "metadata": {},
     "output_type": "display_data"
    },
    {
     "data": {
      "text/html": [],
      "text/plain": [
       "<IPython.core.display.HTML object>"
      ]
     },
     "metadata": {},
     "output_type": "display_data"
    },
    {
     "data": {
      "text/html": [],
      "text/plain": [
       "<IPython.core.display.HTML object>"
      ]
     },
     "metadata": {},
     "output_type": "display_data"
    },
    {
     "data": {
      "text/html": [],
      "text/plain": [
       "<IPython.core.display.HTML object>"
      ]
     },
     "metadata": {},
     "output_type": "display_data"
    },
    {
     "data": {
      "text/html": [],
      "text/plain": [
       "<IPython.core.display.HTML object>"
      ]
     },
     "metadata": {},
     "output_type": "display_data"
    },
    {
     "data": {
      "text/html": [],
      "text/plain": [
       "<IPython.core.display.HTML object>"
      ]
     },
     "metadata": {},
     "output_type": "display_data"
    },
    {
     "data": {
      "text/html": [],
      "text/plain": [
       "<IPython.core.display.HTML object>"
      ]
     },
     "metadata": {},
     "output_type": "display_data"
    },
    {
     "name": "stdout",
     "output_type": "stream",
     "text": [
      "\n",
      "      * Failure rates:\n",
      "            Logistic regression: 80.0%\n",
      "            DistillBERT: 30.0%\n",
      "\n",
      "\n",
      "  > Failure rates (total for capability):\n",
      "        Logistic regression: 53.333333333333336%\n",
      "        DistillBERT: 20.0%\n",
      "\n",
      "=====================================================================================\n",
      "\n"
     ]
    }
   ],
   "source": [
    "def get_relevant_index(argument_labels, item):\n",
    "    # Find the index of the non-\"_\" label. Assert exactly one such index exists.\n",
    "    relevant_indices = [i for i, label in enumerate(argument_labels) if label != \"_\"]\n",
    "    assert len(relevant_indices) == 1, f\"Expected exactly one relevant label in item: {item}, found: {relevant_indices}\"\n",
    "    return relevant_indices[0]\n",
    "\n",
    "# Initialize a dictionary to collect all results\n",
    "aggregated_results = {\"capabilities\": []}\n",
    "\n",
    "# Iterate over capabilities in the dataset\n",
    "for capability in checklist_dataset:\n",
    "    cap_name = capability['capability_name']\n",
    "    cap_description = capability['capability_description']\n",
    "    cap_category = capability['capability_category']\n",
    "    print(f\"Capability: {cap_name} ({cap_category})\")\n",
    "    \n",
    "    cap_result = {\n",
    "        \"capability_name\": cap_name,\n",
    "        \"capability_description\": cap_description,\n",
    "        \"capability_category\": cap_category,\n",
    "        \"tests\": []\n",
    "    }\n",
    "    \n",
    "    # Track performance for this capability\n",
    "    cap_total_gold = 0\n",
    "    cap_failures_logreg = 0\n",
    "    cap_failures_bert = 0\n",
    "    \n",
    "    # Iterate over tests\n",
    "    for test in capability['tests']:\n",
    "        test_type = test['test_type']\n",
    "        test_result = {\n",
    "            \"test_name\": test['test_name'],\n",
    "            \"test_description\": test['test_description'],\n",
    "            \"test_type\": test_type,\n",
    "            \"samples\": []\n",
    "        }\n",
    "\n",
    "        print(f\"\\n  * Test: {test_result['test_name']} ({test_result['test_type']})\")\n",
    "        \n",
    "        # Counters per test\n",
    "        test_total_gold = 0\n",
    "        test_failures_logreg = 0\n",
    "        test_failures_bert = 0\n",
    "        \n",
    "        # Iterate over the samples in this test\n",
    "        for sample in test['samples']:\n",
    "            sample_results = []  # to store results for every inference in this sample\n",
    "            \n",
    "            if test_type == \"MFT\":\n",
    "                # For MFT tests, each sample is a list containing one item.\n",
    "                for item in sample:\n",
    "                    tokens = item['tokens']\n",
    "                    argument_labels = item['argument_labels']\n",
    "                    predicate_sense = item['predicate_name']\n",
    "                    num_classes = len(tokens)\n",
    "                    \n",
    "                    # Convert predicate position to one-hot vector\n",
    "                    predicate_position = torch.tensor([item['predicate_position']])\n",
    "                    predicate_position = torch.nn.functional.one_hot(predicate_position, num_classes).squeeze(0).tolist()\n",
    "                    \n",
    "                    # Get inferences from your models\n",
    "                    logreg_inference = classify_sentence_logreg(\n",
    "                        tokens, predicate_position, argument_labels, predicate_sense, model, vectorizer\n",
    "                    )\n",
    "                    bert_inference = classify_sentence_bert(\n",
    "                        tokens, predicate_position, argument_labels, predicate_sense, trainer, tokenizer\n",
    "                    )\n",
    "                    \n",
    "                    # Process inferences and compare with gold labels (ignoring tokens with \"_\" label)\n",
    "                    for gold_label, logreg_label, bert_label in zip(argument_labels, logreg_inference, bert_inference):\n",
    "                        if gold_label != \"_\":\n",
    "                            test_total_gold += 1\n",
    "                            cap_total_gold += 1\n",
    "                            \n",
    "                            logreg_correct = (gold_label == logreg_label)\n",
    "                            bert_correct = (gold_label == bert_label)\n",
    "                            \n",
    "                            if not logreg_correct:\n",
    "                                test_failures_logreg += 1\n",
    "                                cap_failures_logreg += 1\n",
    "                            if not bert_correct:\n",
    "                                test_failures_bert += 1\n",
    "                                cap_failures_bert += 1\n",
    "                            \n",
    "                            sample_results.append({\n",
    "                                \"gold_label\": gold_label,\n",
    "                                \"logreg_label\": logreg_label,\n",
    "                                \"bert_label\": bert_label,\n",
    "                                \"logreg_correct\": logreg_correct,\n",
    "                                \"bert_correct\": bert_correct\n",
    "                            })\n",
    "                            \n",
    "            elif test_type == \"INV\":\n",
    "                # For INV tests, each sample should contain exactly two items.\n",
    "                if len(sample) != 2:\n",
    "                    print(\"Warning: INV test sample does not contain exactly 2 items.\")\n",
    "                    continue\n",
    "\n",
    "                item1, item2 = sample[0], sample[1]\n",
    "                \n",
    "                # Process item 1\n",
    "                tokens1 = item1['tokens']\n",
    "                num_classes1 = len(tokens1)\n",
    "                argument_labels_1 = item1['argument_labels']\n",
    "                predicate_sense_1 = item1['predicate_name']\n",
    "                # Find the index of the relevant (non-\"_\") gold label for item1.\n",
    "                relevant_index_1 = get_relevant_index(argument_labels_1, item1)\n",
    "                \n",
    "                # Convert predicate position to one-hot vector                \n",
    "                predicate_position_tensor1 = torch.tensor([item1['predicate_position']])\n",
    "                predicate_position1 = torch.nn.functional.one_hot(predicate_position_tensor1, num_classes1).squeeze(0).tolist()\n",
    "                \n",
    "                # Infer both SRL models for sample 1\n",
    "                logreg_inference_1 = classify_sentence_logreg(\n",
    "                    tokens1, predicate_position1, argument_labels_1, predicate_sense_1, model, vectorizer\n",
    "                )\n",
    "                bert_inference_1 = classify_sentence_bert(\n",
    "                    tokens1, predicate_position1, argument_labels_1, predicate_sense_1, trainer, tokenizer\n",
    "                )\n",
    "                \n",
    "                # Process item 2\n",
    "                tokens2 = item2['tokens']\n",
    "                num_classes2 = len(tokens2)\n",
    "                argument_labels_2 = item2['argument_labels']\n",
    "                predicate_sense_2 = item2['predicate_name']\n",
    "                relevant_index_2 = get_relevant_index(argument_labels_2, item2)\n",
    "                \n",
    "                # Convert predicate position to one-hot vector                \n",
    "                predicate_position_tensor2 = torch.tensor([item2['predicate_position']])\n",
    "                predicate_position2 = torch.nn.functional.one_hot(predicate_position_tensor2, num_classes2).squeeze(0).tolist()\n",
    "                \n",
    "                # Infer both SRL models for sample 1\n",
    "                logreg_inference_2 = classify_sentence_logreg(\n",
    "                    tokens2, predicate_position2, argument_labels_2, predicate_sense_2, model, vectorizer\n",
    "                )\n",
    "                bert_inference_2 = classify_sentence_bert(\n",
    "                    tokens2, predicate_position2, argument_labels_2, predicate_sense_2, trainer, tokenizer\n",
    "                )\n",
    "                \n",
    "                # Extract the prediction for the relevant index for each item.\n",
    "                pred_logreg_1 = logreg_inference_1[relevant_index_1]\n",
    "                pred_bert_1 = bert_inference_1[relevant_index_1]\n",
    "                pred_logreg_2 = logreg_inference_2[relevant_index_2]\n",
    "                pred_bert_2 = bert_inference_2[relevant_index_2]\n",
    "                \n",
    "                # Update counters.\n",
    "                test_total_gold += 1\n",
    "                cap_total_gold += 1\n",
    "                \n",
    "                # Check if the class changed between the two items in the sample.\n",
    "                logreg_correct = (pred_logreg_1 == pred_logreg_2)\n",
    "                bert_correct = (pred_bert_1 == pred_bert_2)\n",
    "                \n",
    "                if not logreg_correct:\n",
    "                    test_failures_logreg += 1\n",
    "                    cap_failures_logreg += 1\n",
    "                if not bert_correct:\n",
    "                    test_failures_bert += 1\n",
    "                    cap_failures_bert += 1\n",
    "                \n",
    "                sample_results.append({\n",
    "                    \"relevant_index_item1\": relevant_index_1,\n",
    "                    \"relevant_index_item2\": relevant_index_2,\n",
    "                    \"logreg_prediction_item1\": pred_logreg_1,\n",
    "                    \"logreg_prediction_item2\": pred_logreg_2,\n",
    "                    \"bert_prediction_item1\": pred_bert_1,\n",
    "                    \"bert_prediction_item2\": pred_bert_2,\n",
    "                    \"logreg_correct\": logreg_correct,\n",
    "                    \"bert_correct\": bert_correct\n",
    "                })\n",
    "            \n",
    "            # Save the detailed results for this sample\n",
    "            test_result[\"samples\"].append(sample_results)\n",
    "        \n",
    "        # Calculate failure rates for this test (as percentages)\n",
    "        test_result[\"failure_rate_logreg\"] = (\n",
    "            100.0 * test_failures_logreg / test_total_gold if test_total_gold else None\n",
    "        )\n",
    "        test_result[\"failure_rate_bert\"] = (\n",
    "            100.0 * test_failures_bert / test_total_gold if test_total_gold else None\n",
    "        )\n",
    "\n",
    "        print(f\"\"\"\n",
    "      * Failure rates:\n",
    "            Logistic regression: {test_result[\"failure_rate_logreg\"]}%\n",
    "            DistillBERT: {test_result[\"failure_rate_bert\"]}%\n",
    "\"\"\")\n",
    "        \n",
    "        # Add the test result to the capability's results\n",
    "        cap_result[\"tests\"].append(test_result)\n",
    "    \n",
    "    # Calculate overall failure rates for the capability\n",
    "    cap_result[\"failure_rate_logreg\"] = (\n",
    "        100.0 * cap_failures_logreg / cap_total_gold if cap_total_gold else None\n",
    "    )\n",
    "    cap_result[\"failure_rate_bert\"] = (\n",
    "        100.0 * cap_failures_bert / cap_total_gold if cap_total_gold else None\n",
    "    )\n",
    "\n",
    "    print(f\"\"\"\n",
    "  > Failure rates (total for capability):\n",
    "        Logistic regression: {cap_result[\"failure_rate_logreg\"]}%\n",
    "        DistillBERT: {cap_result[\"failure_rate_bert\"]}%\n",
    "\n",
    "=====================================================================================\n",
    "\"\"\")\n",
    "    \n",
    "    # Add the capability result to the aggregated results\n",
    "    aggregated_results[\"capabilities\"].append(cap_result)\n",
    "\n",
    "# Write the aggregated results and details to a JSON file\n",
    "with open(\"checklist-results.json\", \"w\", encoding=\"utf-8\") as outfile:\n",
    "    json.dump(aggregated_results, outfile, indent=2)"
   ]
  },
  {
   "cell_type": "code",
   "execution_count": 39,
   "id": "ea6ed608-5dbe-465e-9c07-d2758f9a63d5",
   "metadata": {},
   "outputs": [],
   "source": [
    "with open(\"checklist-results.json\", \"r\", encoding=\"utf-8\") as file:\n",
    "    checklist_results = json.load(file)"
   ]
  },
  {
   "cell_type": "code",
   "execution_count": 46,
   "id": "a5c67bd8-5109-4c4b-8426-a1a2890486b4",
   "metadata": {},
   "outputs": [
    {
     "name": "stdout",
     "output_type": "stream",
     "text": [
      "Long-distance dependencies between predicate and ARG0\n",
      "\tFailure rate logistic regression: 60.0%\n",
      "\tFailure rate DistillBERT        : 33.333333333333336%\n",
      "Long-distance dependencies between predicate and ARG1\n",
      "\tFailure rate logistic regression: 46.666666666666664%\n",
      "\tFailure rate DistillBERT        : 40.0%\n",
      "Robustness to noise in the form of typos\n",
      "\tFailure rate logistic regression: 56.666666666666664%\n",
      "\tFailure rate DistillBERT        : 6.666666666666667%\n",
      "Effect of semantic atypicality in active voice syntactically simple SVO sentences on ARG0 labeling\n",
      "\tFailure rate logistic regression: 66.66666666666667%\n",
      "\tFailure rate DistillBERT        : 45.0%\n",
      "Dealing with dative verb alternations\n",
      "\tFailure rate logistic regression: 53.333333333333336%\n",
      "\tFailure rate DistillBERT        : 20.0%\n"
     ]
    }
   ],
   "source": [
    "for capability in checklist_results['capabilities']:\n",
    "    print(capability['capability_name'])\n",
    "    print(f\"\\tFailure rate logistic regression: {capability['failure_rate_logreg']}%\")\n",
    "    print(f\"\\tFailure rate DistillBERT        : {capability['failure_rate_bert']}%\")"
   ]
  },
  {
   "cell_type": "code",
   "execution_count": null,
   "id": "94ba3ed7-a311-4822-99c9-4375b4c6a9ed",
   "metadata": {},
   "outputs": [],
   "source": []
  }
 ],
 "metadata": {
  "kernelspec": {
   "display_name": "Python (adv-nlp-final-exam)",
   "language": "python",
   "name": "adv-nlp-final-exam"
  },
  "language_info": {
   "codemirror_mode": {
    "name": "ipython",
    "version": 3
   },
   "file_extension": ".py",
   "mimetype": "text/x-python",
   "name": "python",
   "nbconvert_exporter": "python",
   "pygments_lexer": "ipython3",
   "version": "3.12.9"
  }
 },
 "nbformat": 4,
 "nbformat_minor": 5
}
